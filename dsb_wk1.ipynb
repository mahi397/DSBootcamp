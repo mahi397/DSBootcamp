{
  "nbformat": 4,
  "nbformat_minor": 0,
  "metadata": {
    "colab": {
      "provenance": []
    },
    "kernelspec": {
      "name": "python3",
      "display_name": "Python 3"
    },
    "language_info": {
      "name": "python"
    }
  },
  "cells": [
    {
      "cell_type": "markdown",
      "source": [
        "Q1."
      ],
      "metadata": {
        "id": "G5A2VBDHx42J"
      }
    },
    {
      "cell_type": "code",
      "source": [
        "def fibo():\n",
        "  a=0\n",
        "  b=1\n",
        "  print(a)\n",
        "  print(b)\n",
        "  i=3 # start at 3 since first 2 terms are already printed\n",
        "  while(i<=10):\n",
        "    c=a+b\n",
        "    print(c)\n",
        "    a=b\n",
        "    b=c\n",
        "    i=i+1\n"
      ],
      "metadata": {
        "id": "7GjIEEEGwn4A"
      },
      "execution_count": 12,
      "outputs": []
    },
    {
      "cell_type": "code",
      "source": [
        "fibo()"
      ],
      "metadata": {
        "colab": {
          "base_uri": "https://localhost:8080/"
        },
        "id": "GhO1Ca96xPak",
        "outputId": "a45ee74f-661f-4583-96ad-2b1c23d4c23d"
      },
      "execution_count": 13,
      "outputs": [
        {
          "output_type": "stream",
          "name": "stdout",
          "text": [
            "0\n",
            "1\n",
            "1\n",
            "2\n",
            "3\n",
            "5\n",
            "8\n",
            "13\n",
            "21\n",
            "34\n"
          ]
        }
      ]
    },
    {
      "cell_type": "markdown",
      "source": [
        "Q2."
      ],
      "metadata": {
        "id": "X_Sexhd2x75_"
      }
    },
    {
      "cell_type": "code",
      "source": [
        "a = [1,2,5,20,-3,72,0,8,45,-8]\n",
        "for i in range(len(a)):\n",
        "  if(i%2!=0):\n",
        "    print(a[i])"
      ],
      "metadata": {
        "colab": {
          "base_uri": "https://localhost:8080/"
        },
        "id": "hG4HsHIfx8qO",
        "outputId": "bd9018a1-d5a3-4a7a-e945-07920b67d75a"
      },
      "execution_count": 14,
      "outputs": [
        {
          "output_type": "stream",
          "name": "stdout",
          "text": [
            "2\n",
            "20\n",
            "72\n",
            "8\n",
            "-8\n"
          ]
        }
      ]
    },
    {
      "cell_type": "markdown",
      "source": [
        "Q3."
      ],
      "metadata": {
        "id": "7pM3vmP2ywTl"
      }
    },
    {
      "cell_type": "code",
      "source": [
        "string = \"\"\"\n",
        "\n",
        "I have provided this text to provide tips on creating interesting paragraphs.\n",
        "\n",
        "First, start with a clear topic sentence that introduces the main idea.\n",
        "\n",
        "Then, support the topic sentence with specific details, examples, and evidence.\n",
        "\n",
        "Vary the sentence length and structure to keep the reader engaged.\n",
        "\n",
        "Finally, end with a strong concluding sentence that summarizes the main points.\n",
        "\n",
        "Remember, practice makes perfect!\n",
        "\n",
        "\"\"\""
      ],
      "metadata": {
        "id": "c1r_Ja80yxWg"
      },
      "execution_count": 15,
      "outputs": []
    },
    {
      "cell_type": "code",
      "source": [
        "len(string.split(' '))"
      ],
      "metadata": {
        "colab": {
          "base_uri": "https://localhost:8080/"
        },
        "id": "3c7cYUUdzLG6",
        "outputId": "679983b6-ba02-48c6-d3d1-85a71b3f9558"
      },
      "execution_count": 16,
      "outputs": [
        {
          "output_type": "execute_result",
          "data": {
            "text/plain": [
              "57"
            ]
          },
          "metadata": {},
          "execution_count": 16
        }
      ]
    },
    {
      "cell_type": "markdown",
      "source": [
        "Q4."
      ],
      "metadata": {
        "id": "ZWMLO1gUzVxe"
      }
    },
    {
      "cell_type": "code",
      "source": [
        "def count_vowels(word):\n",
        "  count=0\n",
        "  vowels = ['a','e','i','o','u']\n",
        "  for i in range(len(word)):\n",
        "    if word[i] in vowels:\n",
        "      count=count+1\n",
        "  return count\n",
        "\n",
        "\n",
        "print(count_vowels(\"paragraph\"))\n",
        "print(count_vowels(\"interesting\"))\n",
        "print(count_vowels(\"summarizes\"))\n"
      ],
      "metadata": {
        "colab": {
          "base_uri": "https://localhost:8080/"
        },
        "id": "pN5_ftc8zWj5",
        "outputId": "2719d8b7-79b9-4324-e650-312ae51512a5"
      },
      "execution_count": 20,
      "outputs": [
        {
          "output_type": "stream",
          "name": "stdout",
          "text": [
            "3\n",
            "4\n",
            "4\n"
          ]
        }
      ]
    },
    {
      "cell_type": "markdown",
      "source": [
        "Q5."
      ],
      "metadata": {
        "id": "4eivB49N0PXW"
      }
    },
    {
      "cell_type": "code",
      "source": [
        "animals=['tiger', 'elephant', 'monkey', 'zebra', 'panther']\n",
        "\n",
        "for i in animals:\n",
        "  print(i.upper())"
      ],
      "metadata": {
        "colab": {
          "base_uri": "https://localhost:8080/"
        },
        "id": "Jnq2Ferh0QIa",
        "outputId": "1a1db49d-4449-4ce5-bede-7eb31fae8f65"
      },
      "execution_count": 21,
      "outputs": [
        {
          "output_type": "stream",
          "name": "stdout",
          "text": [
            "TIGER\n",
            "ELEPHANT\n",
            "MONKEY\n",
            "ZEBRA\n",
            "PANTHER\n"
          ]
        }
      ]
    },
    {
      "cell_type": "markdown",
      "source": [
        "Q6."
      ],
      "metadata": {
        "id": "oagnlK6Q0i68"
      }
    },
    {
      "cell_type": "code",
      "source": [
        "def printOddEven():\n",
        "  for i in range(1,21):\n",
        "    if i%2==0:\n",
        "      print(i, \"is even\")\n",
        "    else:\n",
        "      print(i, \"is odd\")\n",
        "\n",
        "printOddEven()"
      ],
      "metadata": {
        "colab": {
          "base_uri": "https://localhost:8080/"
        },
        "id": "7UuXsO_L0jkD",
        "outputId": "ed3d76b3-60d9-432d-9bf9-9cf82167ae14"
      },
      "execution_count": 23,
      "outputs": [
        {
          "output_type": "stream",
          "name": "stdout",
          "text": [
            "1 is odd\n",
            "2 is even\n",
            "3 is odd\n",
            "4 is even\n",
            "5 is odd\n",
            "6 is even\n",
            "7 is odd\n",
            "8 is even\n",
            "9 is odd\n",
            "10 is even\n",
            "11 is odd\n",
            "12 is even\n",
            "13 is odd\n",
            "14 is even\n",
            "15 is odd\n",
            "16 is even\n",
            "17 is odd\n",
            "18 is even\n",
            "19 is odd\n",
            "20 is even\n"
          ]
        }
      ]
    },
    {
      "cell_type": "markdown",
      "source": [
        "Q7."
      ],
      "metadata": {
        "id": "rCquaO8s07Os"
      }
    },
    {
      "cell_type": "code",
      "source": [
        "def sum_of_integers():\n",
        "  a=input(\"Enter first integer: \")\n",
        "  b=input(\"Enter second integer: \")\n",
        "  return int(a)+int(b)\n",
        "\n",
        "sum_of_integers()\n"
      ],
      "metadata": {
        "colab": {
          "base_uri": "https://localhost:8080/"
        },
        "id": "3MeUUTWH07ua",
        "outputId": "ac542ceb-e00e-455a-bc7f-558383b4421d"
      },
      "execution_count": 24,
      "outputs": [
        {
          "name": "stdout",
          "output_type": "stream",
          "text": [
            "Enter first integer: 3\n",
            "Enter second integer: 67\n"
          ]
        },
        {
          "output_type": "execute_result",
          "data": {
            "text/plain": [
              "70"
            ]
          },
          "metadata": {},
          "execution_count": 24
        }
      ]
    }
  ]
}